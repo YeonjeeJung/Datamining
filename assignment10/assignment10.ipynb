{
 "cells": [
  {
   "cell_type": "markdown",
   "metadata": {},
   "source": [
    "# Assignment10\n",
    "## Name : Yeon-Jee Jung\n",
    "## Student ID : 20142052\n",
    "## Git URL : https://github.com/YeonjeeJung/assignment10"
   ]
  },
  {
   "cell_type": "markdown",
   "metadata": {},
   "source": [
    "# Import packages for plotting graphs and manipulating data :"
   ]
  },
  {
   "cell_type": "code",
   "execution_count": 1,
   "metadata": {},
   "outputs": [],
   "source": [
    "import matplotlib.pyplot as plt\n",
    "import numpy as np\n",
    "import scipy.linalg as spla"
   ]
  },
  {
   "cell_type": "markdown",
   "metadata": {},
   "source": [
    "# Setting for input data :\n",
    "## Open input files"
   ]
  },
  {
   "cell_type": "code",
   "execution_count": 2,
   "metadata": {},
   "outputs": [],
   "source": [
    "file_data_train = \"mnist_train.csv\"\n",
    "file_data_test = \"mnist_test.csv\"\n",
    "\n",
    "h_data_train = open(file_data_train, 'r')\n",
    "h_data_test = open(file_data_test, 'r')\n",
    "\n",
    "data_train = h_data_train.readlines()\n",
    "data_test = h_data_test.readlines()\n",
    "\n",
    "h_data_train.close()\n",
    "h_data_test.close()\n",
    "\n",
    "size_row = 28 # height of the image\n",
    "size_col = 28 # width of the image\n",
    "\n",
    "num_train = len(data_train) # number of training images\n",
    "num_test = len(data_test) # number of testing images"
   ]
  },
  {
   "cell_type": "markdown",
   "metadata": {},
   "source": [
    "## Define normalization function\n",
    "Make input data to be in $[0, 1]$"
   ]
  },
  {
   "cell_type": "code",
   "execution_count": 3,
   "metadata": {},
   "outputs": [],
   "source": [
    "#\n",
    "# normalize the values of the input data to be [0, 1]\n",
    "#\n",
    "\n",
    "def normalize(data):\n",
    "    data_normalized = (data  - min(data)) / (max(data) - min(data))\n",
    "    return data_normalized"
   ]
  },
  {
   "cell_type": "markdown",
   "metadata": {},
   "source": [
    "## Make train and test data matrix with input file\n",
    "In MNIST, 1 image size is $28\\times28$. In matrix, one column represents one image. So train data matrix size is $784\\times num\\_train$, and test data matrix size is $784\\times num\\_test$.\n",
    "\n",
    "$matrix = \\begin{bmatrix}x_1 & x_2 & \\cdots & x_{num} \\end{bmatrix}$, where $x_k$ is vector of one image.\n",
    "\n",
    "If the label is '0', then final label is '1'(true). If the label is not '0', then final label is '-1'(false). "
   ]
  },
  {
   "cell_type": "code",
   "execution_count": 4,
   "metadata": {},
   "outputs": [],
   "source": [
    "def makeTrainTestSet(i, data_train, data_test):\n",
    "    #\n",
    "    # make a matrix each column of which represents an images in a vector form\n",
    "    #\n",
    "\n",
    "    list_image_train = np.empty((size_row * size_col, num_train), dtype=float)\n",
    "    list_label_train = np.empty(num_train, dtype=int)\n",
    "\n",
    "    list_image_test = np.empty((size_row * size_col, num_test), dtype=float)\n",
    "    list_label_test = np.empty(num_test, dtype=int)\n",
    "\n",
    "    count = 0\n",
    "\n",
    "    for line in data_train:\n",
    "        line_data = line.split(',')\n",
    "        label = line_data[0]\n",
    "\n",
    "        if label == str(i):\n",
    "            label = 1\n",
    "        else:\n",
    "            label = -1\n",
    "\n",
    "        im_vector = np.asfarray(line_data[1:])\n",
    "        im_vector = normalize(im_vector)\n",
    "\n",
    "        list_label_train[count] = label\n",
    "        list_image_train[:, count] = im_vector\n",
    "\n",
    "        count += 1\n",
    "\n",
    "    count = 0\n",
    "\n",
    "    for line in data_test:\n",
    "        line_data = line.split(',')\n",
    "        label = line_data[0]\n",
    "\n",
    "        if label == str(i):\n",
    "            label = 1\n",
    "        else:\n",
    "            label = -1\n",
    "\n",
    "        im_vector = np.asfarray(line_data[1:])\n",
    "        im_vector = normalize(im_vector)\n",
    "\n",
    "        list_label_test[count] = label\n",
    "        list_image_test[:, count] = im_vector\n",
    "\n",
    "        count += 1\n",
    "        \n",
    "    return list_image_train, list_label_train, list_image_test, list_label_test"
   ]
  },
  {
   "cell_type": "markdown",
   "metadata": {},
   "source": [
    "# Define functions to solve Least_square problem :\n",
    "We will find \n",
    "$\\begin{bmatrix} s_1 \\\\ s_2 \\\\ \\vdots \\\\ s_p \\end{bmatrix}$ that minimizes $\\begin{Vmatrix}\\begin{bmatrix}f_1(x_1) & f_2(x_1) &\\cdots &f_p(x_1) \\\\f_1(x_2) & f_2(x_2) &\\cdots &f_p(x_2) \\\\\\vdots & \\vdots &&\\vdots \\\\f_1(x_n) & f_2(x_n) &\\cdots&f_p(x_n)\\end{bmatrix}\\cdot\\begin{bmatrix} s_1 \\\\ s_2 \\\\ \\vdots \\\\ s_p\\end{bmatrix} - \\begin{bmatrix} y_1 \\\\ y_2 \\\\ \\vdots \\\\ y_n \\end{bmatrix}\\end{Vmatrix}$, \n",
    "Where $f_k(x)=\\begin{bmatrix} r_1 \\\\ r_2 \\\\ \\vdots \\\\ r_{784} \\end{bmatrix} \\cdot \\begin{bmatrix}x_1 \\\\ x_2 \\\\ \\vdots \\\\ x_{784}\\end{bmatrix}$, $r_i$ is random normal number."
   ]
  },
  {
   "cell_type": "markdown",
   "metadata": {},
   "source": [
    "## Define norm function\n",
    "This function returns norm of a vector."
   ]
  },
  {
   "cell_type": "code",
   "execution_count": 5,
   "metadata": {},
   "outputs": [],
   "source": [
    "def norm(vector):\n",
    "    sum = 0\n",
    "    for i in range(len(vector)):\n",
    "        sum += vector[i]**2\n",
    "    return np.sqrt(sum)"
   ]
  },
  {
   "cell_type": "markdown",
   "metadata": {},
   "source": [
    "## Define proj function\n",
    "This function returns projection of vectors."
   ]
  },
  {
   "cell_type": "code",
   "execution_count": 6,
   "metadata": {},
   "outputs": [],
   "source": [
    "def proj(e, a):\n",
    "    return (np.matmul(e.T, a) / np.matmul(e.T, e))*e"
   ]
  },
  {
   "cell_type": "markdown",
   "metadata": {},
   "source": [
    "## Defind randomExtractor function\n",
    "This function makes random feature-extraction vectors."
   ]
  },
  {
   "cell_type": "code",
   "execution_count": 7,
   "metadata": {},
   "outputs": [],
   "source": [
    "def randomExtractor(p):\n",
    "    extractor = np.random.normal(0, 1, (p, 784))\n",
    "    return extractor"
   ]
  },
  {
   "cell_type": "markdown",
   "metadata": {},
   "source": [
    "## Define findX function\n",
    "This function returns x, from Q, R, and b. Q, R is from computeQR function, that makes A by multiplication. So this function can find x that satisfy least-square problem such that $A\\cdot x = Q\\cdot R\\cdot x = b$."
   ]
  },
  {
   "cell_type": "code",
   "execution_count": 8,
   "metadata": {},
   "outputs": [],
   "source": [
    "def findX(Q, R, b):\n",
    "    Rsol = np.matmul(Q.T, b)\n",
    "    sol = np.zeros(Rsol.shape)\n",
    "    for i in reversed(range(Rsol.shape[0])):\n",
    "        a = Rsol[i]\n",
    "        for j in reversed(range(i+1, Rsol.shape[0])):\n",
    "            a -= sol[j]*R[i][j]\n",
    "        if R[i][i] == 0:\n",
    "            sol[i] = 0\n",
    "        else:\n",
    "            sol[i] = a / R[i][i]\n",
    "    return sol"
   ]
  },
  {
   "cell_type": "markdown",
   "metadata": {},
   "source": [
    "## Define F1score function\n",
    "This function calculates F1 score. $F_1 = 2 \\cdot \\frac{precision\\cdot recall}{precision+recall}$ where $precision = \\frac{TP}{TP+FP}$, $recall = \\frac{TP}{TP+FN}$"
   ]
  },
  {
   "cell_type": "code",
   "execution_count": 9,
   "metadata": {},
   "outputs": [],
   "source": [
    "def F1score(list_TFcount):\n",
    "    precision = list_TFcount[0] / (list_TFcount[0] + list_TFcount[3])\n",
    "    recall = list_TFcount[0] / (list_TFcount[0] + list_TFcount[1])\n",
    "    return 2*((precision * recall) / (precision + recall))"
   ]
  },
  {
   "cell_type": "markdown",
   "metadata": {},
   "source": [
    "## Define TF function\n",
    "This function predicts the test dataset, and evaluate the score. TP is for True Positive, TN is for True Negative, FP is for False Positive, FN is for False Negative."
   ]
  },
  {
   "cell_type": "code",
   "execution_count": 10,
   "metadata": {},
   "outputs": [],
   "source": [
    "def TF(RE, sol, image_test, label_test):\n",
    "    Test = np.matmul(RE, image_test)\n",
    "    pred = np.sign(np.matmul(Test.T, sol))\n",
    "\n",
    "    list_TF = [None for i in range(num_test)]\n",
    "    for i in range(num_test):\n",
    "        if pred[i] == 1.0 and label_test[i] == 1:\n",
    "            list_TF[i] = 'TP'\n",
    "        elif pred[i] == -1.0 and label_test[i] == 1:\n",
    "            list_TF[i] = 'FN'\n",
    "        elif pred[i] == -1.0 and label_test[i] == -1:\n",
    "            list_TF[i] = 'TN'\n",
    "        elif pred[i] == 1.0 and label_test[i] == -1:\n",
    "            list_TF[i] = 'FP'\n",
    "\n",
    "    TFcount = [\n",
    "        list_TF.count('TP'), list_TF.count('FP'), \n",
    "        list_TF.count('TN'), list_TF.count('FN')\n",
    "    ]\n",
    "    print(\"(TP, FP, TN, FN) :\", TFcount)\n",
    "    \n",
    "    F1 = F1score(TFcount)\n",
    "    print(\"F1 score :\", F1)\n",
    "\n",
    "    return list_TF, F1"
   ]
  },
  {
   "cell_type": "markdown",
   "metadata": {},
   "source": [
    "# Solve Least-square problem for classification:\n",
    "## Calculate F1 score for each i, and predict results for test set."
   ]
  },
  {
   "cell_type": "code",
   "execution_count": 11,
   "metadata": {
    "scrolled": true
   },
   "outputs": [
    {
     "name": "stdout",
     "output_type": "stream",
     "text": [
      "(TP, FP, TN, FN) : [926, 73, 8947, 54]\n",
      "F1 score : 0.9358261748357756\n",
      "Finished 0\n",
      "(TP, FP, TN, FN) : [1054, 76, 8789, 81]\n",
      "F1 score : 0.9306843267108168\n",
      "Finished 1\n",
      "(TP, FP, TN, FN) : [666, 31, 8937, 366]\n",
      "F1 score : 0.7703875072296125\n",
      "Finished 2\n",
      "(TP, FP, TN, FN) : [657, 78, 8912, 353]\n",
      "F1 score : 0.7530085959885388\n",
      "Finished 3\n",
      "(TP, FP, TN, FN) : [744, 71, 8947, 238]\n",
      "F1 score : 0.8280467445742904\n",
      "Finished 4\n",
      "(TP, FP, TN, FN) : [444, 63, 9045, 448]\n",
      "F1 score : 0.6347390993566834\n",
      "Finished 5\n",
      "(TP, FP, TN, FN) : [790, 102, 8940, 168]\n",
      "F1 score : 0.8540540540540541\n",
      "Finished 6\n",
      "(TP, FP, TN, FN) : [778, 63, 8909, 250]\n",
      "F1 score : 0.8325307651150348\n",
      "Finished 7\n",
      "(TP, FP, TN, FN) : [444, 149, 8877, 530]\n",
      "F1 score : 0.566687938736439\n",
      "Finished 8\n",
      "(TP, FP, TN, FN) : [583, 141, 8850, 426]\n",
      "F1 score : 0.6728216964800924\n",
      "Finished 9\n"
     ]
    }
   ],
   "source": [
    "preds = []\n",
    "\n",
    "for i in range(10):\n",
    "    img_tr, lbl_tr, img_te, lbl_te = makeTrainTestSet(i, data_train, data_test)\n",
    "    \n",
    "    extractor = randomExtractor(818)\n",
    "    A = np.matmul(extractor, img_tr)\n",
    "    Q, R = np.linalg.qr(A.T)\n",
    "    sol = findX(Q, R, lbl_tr)\n",
    "    list_TF, F1 = TF(extractor, sol, img_te, lbl_te)\n",
    "    \n",
    "    Test = np.matmul(extractor, img_te)\n",
    "    p = np.matmul(Test.T, sol)\n",
    "    preds.append(p)\n",
    "    print(\"Finished\", i)\n",
    "    "
   ]
  },
  {
   "cell_type": "markdown",
   "metadata": {},
   "source": [
    "## Find the argmax index, predict the final result."
   ]
  },
  {
   "cell_type": "code",
   "execution_count": 12,
   "metadata": {},
   "outputs": [
    {
     "name": "stdout",
     "output_type": "stream",
     "text": [
      "[7 2 1 ... 4 5 6]\n"
     ]
    }
   ],
   "source": [
    "preds = np.array(preds)\n",
    "pred = np.empty(num_test, dtype=int)\n",
    "for i in range(num_test):\n",
    "    pred[i] = int(np.argmax(preds[:,i]))\n",
    "print(pred)"
   ]
  },
  {
   "cell_type": "markdown",
   "metadata": {},
   "source": [
    "## Make the true number label of the test set."
   ]
  },
  {
   "cell_type": "code",
   "execution_count": 13,
   "metadata": {},
   "outputs": [],
   "source": [
    "list_real_label_test = np.empty(num_test, dtype=int)\n",
    "\n",
    "count = 0\n",
    "for line in data_test:\n",
    "    line_data = line.split(',')\n",
    "    label = line_data[0]\n",
    "\n",
    "    list_real_label_test[count] = label\n",
    "\n",
    "    count += 1"
   ]
  },
  {
   "cell_type": "markdown",
   "metadata": {},
   "source": [
    "## Plot the confusion Matrix."
   ]
  },
  {
   "cell_type": "code",
   "execution_count": 14,
   "metadata": {},
   "outputs": [
    {
     "name": "stdout",
     "output_type": "stream",
     "text": [
      " 944    0    0    2    0    6   13    1   13    1 \n",
      "   0 1105    2    2    2    1    5    1   16    1 \n",
      "  19   55  808   28   18    0   40   18   40    6 \n",
      "   9   21   22  867    3   20    9   22   24   13 \n",
      "   1   24    5    3  861    6    9    2   16   55 \n",
      "  18   15    3   85   18  620   19   13   78   23 \n",
      "  27    9    9    1   21   19  863    0    8    1 \n",
      "   6   39   14    9   23    0    1  860    5   71 \n",
      "  21   54   10   26   25   41   14   10  750   23 \n",
      "  16   11    1   15   68    1    1   63   18  815 \n"
     ]
    }
   ],
   "source": [
    "confusionMatrix = np.zeros((10, 10), dtype=int)\n",
    "\n",
    "for i in range(num_test):\n",
    "    confusionMatrix[list_real_label_test[i], pred[i]] += 1\n",
    "    \n",
    "for i in range(10):\n",
    "    for j in range(10):\n",
    "        print(\"%4d\"%confusionMatrix[i, j], end=\" \")\n",
    "    print(\"\")"
   ]
  }
 ],
 "metadata": {
  "kernelspec": {
   "display_name": "Python 3",
   "language": "python",
   "name": "python3"
  },
  "language_info": {
   "codemirror_mode": {
    "name": "ipython",
    "version": 3
   },
   "file_extension": ".py",
   "mimetype": "text/x-python",
   "name": "python",
   "nbconvert_exporter": "python",
   "pygments_lexer": "ipython3",
   "version": "3.6.6"
  }
 },
 "nbformat": 4,
 "nbformat_minor": 2
}
