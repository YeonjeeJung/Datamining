{
 "cells": [
  {
   "cell_type": "markdown",
   "metadata": {},
   "source": [
    "# This script demonstrates the k-means clustering algorithm for MNIST dataset\n",
    "## Name : Yeon-Jee Jung\n",
    "## Student ID : 20142052\n",
    "## Git URL : https://github.com/YeonjeeJung/assignment04"
   ]
  },
  {
   "cell_type": "markdown",
   "metadata": {},
   "source": [
    "# Import Packages and open file"
   ]
  },
  {
   "cell_type": "markdown",
   "metadata": {},
   "source": [
    "## Import packages for plotting graphs and manipulating data :"
   ]
  },
  {
   "cell_type": "code",
   "execution_count": 1,
   "metadata": {},
   "outputs": [],
   "source": [
    "import matplotlib.pyplot as plt\n",
    "import numpy as np\n",
    "import random"
   ]
  },
  {
   "cell_type": "markdown",
   "metadata": {},
   "source": [
    "## Make array from .csv file :"
   ]
  },
  {
   "cell_type": "code",
   "execution_count": 2,
   "metadata": {},
   "outputs": [],
   "source": [
    "file_data   = \"mnist_test.csv\"\n",
    "handle_file = open(file_data, \"r\")\n",
    "data        = handle_file.readlines()\n",
    "handle_file.close()\n",
    "\n",
    "size_row    = 28    # height of the image\n",
    "size_col    = 28    # width of the image\n",
    "\n",
    "num_image   = len(data)\n",
    "count       = 0     # count for the number of images"
   ]
  },
  {
   "cell_type": "markdown",
   "metadata": {},
   "source": [
    "## Normalize the values of the input data to be $[0,1]$ :"
   ]
  },
  {
   "cell_type": "code",
   "execution_count": 3,
   "metadata": {},
   "outputs": [],
   "source": [
    "def normalize(data):\n",
    "\n",
    "    data_normalized = (data - min(data)) / (max(data) - min(data))\n",
    "\n",
    "    return(data_normalized)"
   ]
  },
  {
   "cell_type": "markdown",
   "metadata": {},
   "source": [
    "## Make a matrix each column of which represents an images in a vector form :"
   ]
  },
  {
   "cell_type": "code",
   "execution_count": 4,
   "metadata": {},
   "outputs": [],
   "source": [
    "list_image  = np.empty((size_row * size_col, num_image), dtype=float)\n",
    "list_label  = np.empty(num_image, dtype=int)\n",
    "\n",
    "for line in data:\n",
    "\n",
    "    line_data   = line.split(',')\n",
    "    label       = line_data[0]\n",
    "    im_vector   = np.asfarray(line_data[1:])\n",
    "    im_vector   = normalize(im_vector)\n",
    "\n",
    "    list_label[count]       = label\n",
    "    list_image[:, count]    = im_vector    \n",
    "\n",
    "    count += 1"
   ]
  },
  {
   "cell_type": "markdown",
   "metadata": {},
   "source": [
    "# Define functions"
   ]
  },
  {
   "cell_type": "markdown",
   "metadata": {},
   "source": [
    "## Compute distance between two vectors $x$ and $y$ :"
   ]
  },
  {
   "cell_type": "code",
   "execution_count": 5,
   "metadata": {},
   "outputs": [],
   "source": [
    "def computeDistance(x, y):\n",
    "\n",
    "    d = (x - y) ** 2\n",
    "    s = np.sum(d)\n",
    "    r = np.sqrt(s)\n",
    "\n",
    "    return(r)"
   ]
  },
  {
   "cell_type": "markdown",
   "metadata": {},
   "source": [
    "## Set initial cluster randomly :"
   ]
  },
  {
   "cell_type": "code",
   "execution_count": 6,
   "metadata": {},
   "outputs": [],
   "source": [
    "def initializeLabel(n_cluster):\n",
    "    list_cluster = [random.randrange(0,n_cluster) for i in range(num_image)]\n",
    "    return list_cluster"
   ]
  },
  {
   "cell_type": "markdown",
   "metadata": {},
   "source": [
    "## Compute centroid image of each cluster :"
   ]
  },
  {
   "cell_type": "code",
   "execution_count": 7,
   "metadata": {},
   "outputs": [],
   "source": [
    "def computeCentroid(n_cluster):\n",
    "    list_centroid = [np.zeros((size_row*size_col)) for i in range(n_cluster)]\n",
    "    n_imgs = [0 for i in range(n_cluster)]\n",
    "    \n",
    "    for i in range(num_image):\n",
    "        label = list_cluster[i]\n",
    "        im_vector = list_image[:,i]\n",
    "        list_centroid[label] += im_vector\n",
    "        n_imgs[label] += 1\n",
    "        #print(label)\n",
    "        \n",
    "    for cluster in range(n_cluster):\n",
    "        list_centroid[cluster] = list_centroid[cluster] / n_imgs[cluster]\n",
    "        \n",
    "    return np.array(list_centroid)"
   ]
  },
  {
   "cell_type": "markdown",
   "metadata": {},
   "source": [
    "## Make distance array :"
   ]
  },
  {
   "cell_type": "code",
   "execution_count": 8,
   "metadata": {},
   "outputs": [],
   "source": [
    "def makeListDist(n_cluster, list_centroid):\n",
    "    list_dist = []\n",
    "    for i in range(num_image):\n",
    "        temp_dist = [\n",
    "            computeDistance(\n",
    "                list_centroid[j],list_image[:,i]\n",
    "            ) for j in range(n_cluster)\n",
    "        ]\n",
    "        \n",
    "        list_dist.append(temp_dist)\n",
    "    \n",
    "    return list_dist"
   ]
  },
  {
   "cell_type": "markdown",
   "metadata": {},
   "source": [
    "## Assign labels according to the distance array :"
   ]
  },
  {
   "cell_type": "code",
   "execution_count": 9,
   "metadata": {},
   "outputs": [],
   "source": [
    "def assignLabel(n_cluster,list_dist):\n",
    "    for i in range(num_image):\n",
    "        this_dist = list_dist[i]\n",
    "        new_cluster = this_dist.index(min(this_dist))\n",
    "        list_cluster[i] = new_cluster\n",
    "        #print(this_dist)"
   ]
  },
  {
   "cell_type": "markdown",
   "metadata": {},
   "source": [
    "## Pick the representative labels for each cluster :"
   ]
  },
  {
   "cell_type": "code",
   "execution_count": 10,
   "metadata": {},
   "outputs": [],
   "source": [
    "def pickRepresentative(n_cluster):\n",
    "    temp_repre = [[0 for j in range(n_cluster)] for i in range(n_cluster)]\n",
    "    list_repre = [None for i in range(n_cluster)]\n",
    "    for i in range(num_image):\n",
    "        i_label = list_label[i]\n",
    "        i_cluster = list_cluster[i]\n",
    "        temp_repre[i_cluster][i_label] += 1\n",
    "        \n",
    "    for i in range(n_cluster):\n",
    "        list_repre[i] = temp_repre[i].index(max(temp_repre[i]))\n",
    "        \n",
    "    return np.array(list_repre)"
   ]
  },
  {
   "cell_type": "markdown",
   "metadata": {},
   "source": [
    "## Compute energy functional :"
   ]
  },
  {
   "cell_type": "code",
   "execution_count": 11,
   "metadata": {},
   "outputs": [],
   "source": [
    "def computeEnergy(list_image, list_cluster):\n",
    "    energy = 0\n",
    "    for i in range(num_image):\n",
    "        this_cluster = list_cluster[i]\n",
    "        this_img = list_image[:,i]\n",
    "        energy += computeDistance(this_img,list_centroid[this_cluster])\n",
    "        \n",
    "    energy /= num_image\n",
    "    return energy"
   ]
  },
  {
   "cell_type": "markdown",
   "metadata": {},
   "source": [
    "## Compute accuracy with answer label :"
   ]
  },
  {
   "cell_type": "code",
   "execution_count": 12,
   "metadata": {},
   "outputs": [],
   "source": [
    "def computeAccuracy(list_cluster, list_label):\n",
    "    repre = pickRepresentative(10)\n",
    "    corr = 0\n",
    "    for i in range(num_image):\n",
    "        this_cluster = list_cluster[i]\n",
    "        if repre[this_cluster] == list_label[i]:\n",
    "            corr += 1\n",
    "    corr /= num_image\n",
    "    return corr"
   ]
  },
  {
   "cell_type": "markdown",
   "metadata": {},
   "source": [
    "# Run k-means algorithm"
   ]
  },
  {
   "cell_type": "markdown",
   "metadata": {},
   "source": [
    "## Do initialize and first iteration, and show first centroid images :"
   ]
  },
  {
   "cell_type": "code",
   "execution_count": 13,
   "metadata": {},
   "outputs": [
    {
     "data": {
      "image/png": "[encoded data removed]",
      "text/plain": [
       "<matplotlib.figure.Figure at 0x10ceea128>"
      ]
     },
     "metadata": {},
     "output_type": "display_data"
    }
   ],
   "source": [
    "n_cluster = 10\n",
    "\n",
    "list_cluster = initializeLabel(n_cluster)\n",
    "list_centroid = computeCentroid(n_cluster)\n",
    "\n",
    "for i in range(n_cluster):\n",
    "    plt.subplot(2,(n_cluster+1)//2,i+1)\n",
    "    plt.title(i)\n",
    "    plt.imshow(\n",
    "        list_centroid[i].reshape((size_row,size_col)),\n",
    "        cmap='Greys',\n",
    "        interpolation='None'\n",
    "    )\n",
    "    \n",
    "    frame = plt.gca()\n",
    "    frame.axes.get_xaxis().set_visible(False)\n",
    "    frame.axes.get_yaxis().set_visible(False)\n",
    "plt.show()\n",
    "\n",
    "list_dist = makeListDist(n_cluster,list_centroid)\n",
    "assignLabel(n_cluster,list_dist)"
   ]
  },
  {
   "cell_type": "markdown",
   "metadata": {},
   "source": [
    "## Run k-means algorithm until the centroid does not change :"
   ]
  },
  {
   "cell_type": "code",
   "execution_count": 14,
   "metadata": {},
   "outputs": [
    {
     "name": "stdout",
     "output_type": "stream",
     "text": [
      "iteration 1\n",
      "energy : 6.585433560429742\n",
      "accuracy : 0.344\n",
      "iteration 2\n",
      "energy : 6.317454316392555\n",
      "accuracy : 0.4559\n",
      "iteration 3\n",
      "energy : 6.248936991368883\n",
      "accuracy : 0.5042\n",
      "iteration 4\n",
      "energy : 6.228824628106806\n",
      "accuracy : 0.5303\n",
      "iteration 5\n",
      "energy : 6.215227326637998\n",
      "accuracy : 0.5544\n",
      "iteration 6\n",
      "energy : 6.203466488401823\n",
      "accuracy : 0.5766\n",
      "iteration 7\n",
      "energy : 6.1935935510688065\n",
      "accuracy : 0.5928\n",
      "iteration 8\n",
      "energy : 6.186742742192268\n",
      "accuracy : 0.6038\n",
      "iteration 9\n",
      "energy : 6.18259305257497\n",
      "accuracy : 0.6109\n",
      "iteration 10\n",
      "energy : 6.1799583672513485\n",
      "accuracy : 0.6168\n",
      "iteration 11\n",
      "energy : 6.178775306329436\n",
      "accuracy : 0.6204\n",
      "iteration 12\n",
      "energy : 6.178111215034533\n",
      "accuracy : 0.6222\n",
      "iteration 13\n",
      "energy : 6.177499994133579\n",
      "accuracy : 0.6245\n",
      "iteration 14\n",
      "energy : 6.177005701275123\n",
      "accuracy : 0.6252\n",
      "iteration 15\n",
      "energy : 6.176447733516951\n",
      "accuracy : 0.6261\n",
      "iteration 16\n",
      "energy : 6.175963413149895\n",
      "accuracy : 0.6259\n",
      "iteration 17\n",
      "energy : 6.175549328102125\n",
      "accuracy : 0.6257\n",
      "iteration 18\n",
      "energy : 6.175140016407421\n",
      "accuracy : 0.6268\n",
      "iteration 19\n",
      "energy : 6.174901477457853\n",
      "accuracy : 0.6281\n",
      "iteration 20\n",
      "energy : 6.174669528726249\n",
      "accuracy : 0.63\n",
      "iteration 21\n",
      "energy : 6.174409092564171\n",
      "accuracy : 0.6312\n",
      "iteration 22\n",
      "energy : 6.174143074067528\n",
      "accuracy : 0.6315\n",
      "iteration 23\n",
      "energy : 6.1738787819228245\n",
      "accuracy : 0.6326\n",
      "iteration 24\n",
      "energy : 6.173723649321576\n",
      "accuracy : 0.6334\n",
      "iteration 25\n",
      "energy : 6.173562905449604\n",
      "accuracy : 0.6336\n",
      "iteration 26\n",
      "energy : 6.1734143258991585\n",
      "accuracy : 0.6341\n",
      "iteration 27\n",
      "energy : 6.173276127883976\n",
      "accuracy : 0.6348\n",
      "iteration 28\n",
      "energy : 6.173125483681583\n",
      "accuracy : 0.6351\n",
      "iteration 29\n",
      "energy : 6.172970406748615\n",
      "accuracy : 0.6353\n",
      "iteration 30\n",
      "energy : 6.172891129142363\n",
      "accuracy : 0.6347\n",
      "iteration 31\n",
      "energy : 6.172845238439982\n",
      "accuracy : 0.635\n",
      "iteration 32\n",
      "energy : 6.17283941294723\n",
      "accuracy : 0.6351\n",
      "iteration 33\n",
      "energy : 6.172816042064121\n",
      "accuracy : 0.635\n",
      "iteration 34\n",
      "energy : 6.172799929973108\n",
      "accuracy : 0.6349\n",
      "iteration 35\n",
      "energy : 6.172761859777912\n",
      "accuracy : 0.6347\n",
      "iteration 36\n",
      "energy : 6.172694295703779\n",
      "accuracy : 0.6347\n",
      "iteration 37\n",
      "energy : 6.17266482517838\n",
      "accuracy : 0.6351\n",
      "iteration 38\n",
      "energy : 6.172605207915872\n",
      "accuracy : 0.6349\n",
      "iteration 39\n",
      "energy : 6.172576482629923\n",
      "accuracy : 0.6352\n",
      "iteration 40\n",
      "energy : 6.1724900448170965\n",
      "accuracy : 0.6355\n",
      "iteration 41\n",
      "energy : 6.1724095560581755\n",
      "accuracy : 0.6359\n",
      "iteration 42\n",
      "energy : 6.172298288695747\n",
      "accuracy : 0.6362\n",
      "iteration 43\n",
      "energy : 6.172185466629939\n",
      "accuracy : 0.6365\n",
      "iteration 44\n",
      "energy : 6.172054529726775\n",
      "accuracy : 0.6367\n",
      "iteration 45\n",
      "energy : 6.17195973424617\n",
      "accuracy : 0.637\n",
      "iteration 46\n",
      "energy : 6.171903469372061\n",
      "accuracy : 0.6372\n",
      "iteration 47\n",
      "energy : 6.1718768933464645\n",
      "accuracy : 0.6369\n",
      "iteration 48\n",
      "energy : 6.17187229478268\n",
      "accuracy : 0.6367\n"
     ]
    }
   ],
   "source": [
    "iter = 0\n",
    "list_energy = []\n",
    "list_accuracy = []\n",
    "\n",
    "while(1):\n",
    "    new_centroid = computeCentroid(n_cluster)\n",
    "    \n",
    "    if np.array_equal(list_centroid,new_centroid):\n",
    "        break\n",
    "        \n",
    "    list_centroid = new_centroid\n",
    "    \n",
    "    iter+=1\n",
    "    print(\"iteration\",iter)\n",
    "    \n",
    "    energy = computeEnergy(list_image,list_cluster)\n",
    "    print(\"energy :\",energy)\n",
    "    list_energy.append(energy)\n",
    "    \n",
    "    accuracy = computeAccuracy(list_cluster,list_label)\n",
    "    print(\"accuracy :\",accuracy)\n",
    "    list_accuracy.append(accuracy)\n",
    "    \n",
    "    list_dist = makeListDist(n_cluster,list_centroid)\n",
    "    assignLabel(n_cluster,list_dist)"
   ]
  },
  {
   "cell_type": "markdown",
   "metadata": {},
   "source": [
    "## Show the result centroid and energy, accuracy graphs :"
   ]
  },
  {
   "cell_type": "code",
   "execution_count": 15,
   "metadata": {},
   "outputs": [
    {
     "data": {
      "image/png": "[encoded data removed]",
      "text/plain": [
       "<matplotlib.figure.Figure at 0x11677e390>"
      ]
     },
     "metadata": {},
     "output_type": "display_data"
    },
    {
     "data": {
      "image/png": "[encoded data removed]",
      "text/plain": [
       "<matplotlib.figure.Figure at 0x11677e048>"
      ]
     },
     "metadata": {},
     "output_type": "display_data"
    },
    {
     "data": {
      "image/png": "[encoded data removed]",
      "text/plain": [
       "<matplotlib.figure.Figure at 0x10ccfd2e8>"
      ]
     },
     "metadata": {},
     "output_type": "display_data"
    }
   ],
   "source": [
    "list_repre = pickRepresentative(n_cluster)\n",
    "    \n",
    "for i in range(n_cluster):\n",
    "    plt.subplot(2,(n_cluster+1)//2,i+1)\n",
    "    plt.title(list_repre[i])\n",
    "    plt.imshow(\n",
    "        list_centroid[i].reshape((size_row,size_col)),\n",
    "        cmap='Greys',\n",
    "        interpolation='None'\n",
    "    )\n",
    "    \n",
    "    frame = plt.gca()\n",
    "    frame.axes.get_xaxis().set_visible(False)\n",
    "    frame.axes.get_yaxis().set_visible(False)\n",
    "        \n",
    "plt.show()\n",
    "\n",
    "plt.title(\"Energy\")\n",
    "plt.plot(list_energy)\n",
    "plt.show()\n",
    "\n",
    "plt.title(\"Accuracy\")\n",
    "plt.plot(list_accuracy)\n",
    "\n",
    "plt.show()"
   ]
  }
 ],
 "metadata": {
  "kernelspec": {
   "display_name": "Python 3",
   "language": "python",
   "name": "python3"
  },
  "language_info": {
   "codemirror_mode": {
    "name": "ipython",
    "version": 3
   },
   "file_extension": ".py",
   "mimetype": "text/x-python",
   "name": "python",
   "nbconvert_exporter": "python",
   "pygments_lexer": "ipython3",
   "version": "3.6.4"
  }
 },
 "nbformat": 4,
 "nbformat_minor": 2
}
