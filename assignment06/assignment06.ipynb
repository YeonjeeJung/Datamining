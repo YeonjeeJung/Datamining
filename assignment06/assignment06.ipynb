{
 "cells": [
  {
   "cell_type": "markdown",
   "metadata": {},
   "source": [
    "# Assignment06\n",
    "## Name : Yeon-Jee Jung\n",
    "## Student ID : 20142052\n",
    "## Git URL : https://github.com/YeonjeeJung/assignment06"
   ]
  },
  {
   "cell_type": "markdown",
   "metadata": {},
   "source": [
    "# Import packages for plotting graphs and manipulating data:"
   ]
  },
  {
   "cell_type": "code",
   "execution_count": 1,
   "metadata": {},
   "outputs": [],
   "source": [
    "import numpy as np\n",
    "import matplotlib.pyplot as plt"
   ]
  },
  {
   "cell_type": "markdown",
   "metadata": {},
   "source": [
    "# Set variables and visualize data:\n",
    "\n",
    "## Set variables\n",
    "Make data y1 as noisy data, and make clean data y2 as $y2 = 2\\cdot x + 10$."
   ]
  },
  {
   "cell_type": "code",
   "execution_count": 2,
   "metadata": {},
   "outputs": [],
   "source": [
    "num = 201\n",
    "std = 20\n",
    "a = 2 \n",
    "b = 10\n",
    "\n",
    "n = np.random.rand(num)\n",
    "nn = n - np.mean(n)\n",
    "x = np.linspace(-100,100,num)\n",
    "y1 = a * x + nn * std + b \n",
    "y2 = a * x + b\n",
    "\n",
    "# x  : x-coordinate data\n",
    "# y1 : (noisy) y-coordinate data\n",
    "# y2 : (clean) y-coordinate data \n",
    "# y = f(x) = a * x + b"
   ]
  },
  {
   "cell_type": "markdown",
   "metadata": {},
   "source": [
    "## Show Noisy data"
   ]
  },
  {
   "cell_type": "code",
   "execution_count": 3,
   "metadata": {},
   "outputs": [
    {
     "data": {
      "image/png": "[encoded data removed]",
      "text/plain": [
       "<Figure size 432x288 with 1 Axes>"
      ]
     },
     "metadata": {
      "needs_background": "light"
     },
     "output_type": "display_data"
    }
   ],
   "source": [
    "plt.scatter(x, y1, s=5)\n",
    "plt.title(\"Noisy data\")\n",
    "plt.show()"
   ]
  },
  {
   "cell_type": "markdown",
   "metadata": {},
   "source": [
    "## Show Clean data"
   ]
  },
  {
   "cell_type": "code",
   "execution_count": 4,
   "metadata": {},
   "outputs": [
    {
     "data": {
      "image/png": "[encoded data removed]",
      "text/plain": [
       "<Figure size 432x288 with 1 Axes>"
      ]
     },
     "metadata": {
      "needs_background": "light"
     },
     "output_type": "display_data"
    }
   ],
   "source": [
    "plt.plot(x, y2, 'r')\n",
    "plt.title(\"Clean data\")\n",
    "plt.show()"
   ]
  },
  {
   "cell_type": "markdown",
   "metadata": {},
   "source": [
    "# Define functions to solve Least-square problem :\n",
    "\n",
    "## Define Matrix A\n",
    "\n",
    "$$\n",
    "A = \\begin{bmatrix}\n",
    "1 & x_1 \\\\\n",
    "1 & x_2  \\\\\n",
    "\\vdots & \\vdots \\\\\n",
    "1 & x_n \n",
    "\\end{bmatrix}$$\n",
    "\n",
    "And then we will find $$ \\begin{bmatrix} b \\\\ a \\end{bmatrix}$$ that minimizes $$\\begin{Vmatrix}\\begin{bmatrix}1 & x_1 \\\\1 & x_2  \\\\\\vdots & \\vdots \\\\1 & x_n \\end{bmatrix}\\cdot\\begin{bmatrix} b \\\\ a \\end{bmatrix} - \\begin{bmatrix} y_1 \\\\ y_2 \\\\ \\vdots \\\\ y_n \\end{bmatrix}\\end{Vmatrix}$$."
   ]
  },
  {
   "cell_type": "code",
   "execution_count": 5,
   "metadata": {},
   "outputs": [],
   "source": [
    "A = np.array([[1, x1] for x1 in x])"
   ]
  },
  {
   "cell_type": "markdown",
   "metadata": {},
   "source": [
    "## Define norm function\n",
    "This function returns norm of a vector."
   ]
  },
  {
   "cell_type": "code",
   "execution_count": 6,
   "metadata": {},
   "outputs": [],
   "source": [
    "def norm(vector):\n",
    "    sum = 0\n",
    "    for i in range(len(vector)):\n",
    "        sum += vector[i]**2\n",
    "    return np.sqrt(sum)"
   ]
  },
  {
   "cell_type": "markdown",
   "metadata": {},
   "source": [
    "## Define computeQR function\n",
    "This function returns the Q, R matrix from input matrix. Q is the orthonormal matrix, and R is upper triangle matrix."
   ]
  },
  {
   "cell_type": "code",
   "execution_count": 7,
   "metadata": {},
   "outputs": [],
   "source": [
    "def computeQR(matrix):\n",
    "    result_Q = np.zeros(matrix.shape)\n",
    "    result_R = np.zeros([matrix.shape[1], matrix.shape[1]])\n",
    "    for i in range(matrix.shape[1]):\n",
    "        ai = matrix[:,0]\n",
    "        if i == 0:\n",
    "            result_Q[:,0] = matrix[:,0] / norm(ai)\n",
    "        else:\n",
    "            hq = matrix[:,i]\n",
    "            for j in range(i):\n",
    "                hq -= np.matmul(result_Q[:,j].T, matrix[:,i])*result_Q[:,j]\n",
    "            result_Q[:,i] = hq / norm(hq)\n",
    "            \n",
    "    for i in range(matrix.shape[1]):\n",
    "        for j in range(i, matrix.shape[1]):\n",
    "            result_R[i][j] = np.matmul(result_Q[:,i].T, matrix[:,j])\n",
    "            \n",
    "    return result_Q, result_R"
   ]
  },
  {
   "cell_type": "markdown",
   "metadata": {},
   "source": [
    "## Define findX function\n",
    "This function returns x, from Q, R, and b. Q, R is from computeQR function, that makes A by multiplication. So this function can find x that satisfy least-square problem such that $A\\cdot x = Q\\cdot R\\cdot x = b$."
   ]
  },
  {
   "cell_type": "code",
   "execution_count": 8,
   "metadata": {},
   "outputs": [],
   "source": [
    "def findX(Q, R, b):\n",
    "    Rsol = np.matmul(Q.T, b)\n",
    "    sol = np.zeros(Rsol.shape)\n",
    "    for i in reversed(range(Rsol.shape[0])):\n",
    "        a = Rsol[i]\n",
    "        for j in reversed(range(i+1, Rsol.shape[0])):\n",
    "            a -= sol[j]*R[i][j]\n",
    "        sol[i] = a / R[i][i]\n",
    "    return sol"
   ]
  },
  {
   "cell_type": "markdown",
   "metadata": {},
   "source": [
    "# Calculate Q, R, and find the solution:\n",
    "\n",
    "## Calculate Q, R, and the solution."
   ]
  },
  {
   "cell_type": "code",
   "execution_count": 9,
   "metadata": {},
   "outputs": [
    {
     "name": "stdout",
     "output_type": "stream",
     "text": [
      "[10.          1.99874327]\n"
     ]
    }
   ],
   "source": [
    "Q, R = computeQR(A)\n",
    "sol = findX(Q, R, y1)\n",
    "print(sol)"
   ]
  },
  {
   "cell_type": "markdown",
   "metadata": {},
   "source": [
    "## Show the graph of calculated coefficients\n",
    "\n",
    "You can see the green line covers the red line. That means my coefficients are close to the original coefficients."
   ]
  },
  {
   "cell_type": "code",
   "execution_count": 10,
   "metadata": {},
   "outputs": [
    {
     "data": {
      "image/png": "[encoded data removed]",
      "text/plain": [
       "<Figure size 432x288 with 1 Axes>"
      ]
     },
     "metadata": {
      "needs_background": "light"
     },
     "output_type": "display_data"
    }
   ],
   "source": [
    "myY = sol[0] + sol[1]*x\n",
    "plt.plot(x, y2, 'r')\n",
    "plt.plot(x, myY, 'g')\n",
    "plt.show()"
   ]
  }
 ],
 "metadata": {
  "kernelspec": {
   "display_name": "Python 3",
   "language": "python",
   "name": "python3"
  },
  "language_info": {
   "codemirror_mode": {
    "name": "ipython",
    "version": 3
   },
   "file_extension": ".py",
   "mimetype": "text/x-python",
   "name": "python",
   "nbconvert_exporter": "python",
   "pygments_lexer": "ipython3",
   "version": "3.6.6"
  }
 },
 "nbformat": 4,
 "nbformat_minor": 2
}
