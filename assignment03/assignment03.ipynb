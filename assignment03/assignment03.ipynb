{
 "cells": [
  {
   "cell_type": "markdown",
   "metadata": {},
   "source": [
    "# This script demonstrates the k-means clustering algorithm"
   ]
  },
  {
   "cell_type": "markdown",
   "metadata": {},
   "source": [
    "Name : Yeon-Jee Jung\n",
    "\n",
    "Student ID : 20142052\n",
    "\n",
    "Git URL : https://github.com/YeonjeeJung/assignment03"
   ]
  },
  {
   "cell_type": "markdown",
   "metadata": {},
   "source": [
    "# Import packages for plotting graphs and manipulating data :"
   ]
  },
  {
   "cell_type": "code",
   "execution_count": 1,
   "metadata": {},
   "outputs": [],
   "source": [
    "import random\n",
    "import matplotlib.pyplot as plt\n",
    "import numpy as np\n",
    "import math\n",
    "import pandas as pd"
   ]
  },
  {
   "cell_type": "markdown",
   "metadata": {},
   "source": [
    "# Generate initial data :"
   ]
  },
  {
   "cell_type": "markdown",
   "metadata": {},
   "source": [
    "There are n_points points per cluster, and n_cluster clusters.\n",
    "\n",
    "Ouput type is pd.DataFrame."
   ]
  },
  {
   "cell_type": "code",
   "execution_count": 2,
   "metadata": {},
   "outputs": [],
   "source": [
    "def generatePointCluster(n_cluster, n_points):\n",
    "    \n",
    "    points_x = []\n",
    "    points_y = []\n",
    "    \n",
    "    # There are center points for each cluster.\n",
    "    # Points are in the range +2.0 or -2.0 from the center\n",
    "    # The centers are in the range from 5.0 to -5.0\n",
    "    for i in range(n_cluster):\n",
    "        cen_pt = [random.uniform(-5.0, 5.0), random.uniform(-5.0, 5.0)]\n",
    "        for j in range(n_points):\n",
    "            points_x.append(random.uniform(-2.0,2.0)+cen_pt[0])\n",
    "            points_y.append(random.uniform(-2.0,2.0)+cen_pt[1])\n",
    "            \n",
    "    # To make DataFrame\n",
    "    data = {'x' : points_x,\n",
    "           'y' : points_y,\n",
    "           'cluster' : [None for i in range(n_cluster*n_points)]}\n",
    "    data = pd.DataFrame(data)\n",
    "    return data"
   ]
  },
  {
   "cell_type": "markdown",
   "metadata": {},
   "source": [
    "Verify the function.\n",
    "\n",
    "We can see the output type is pd.DataFrame like that."
   ]
  },
  {
   "cell_type": "code",
   "execution_count": 3,
   "metadata": {},
   "outputs": [
    {
     "name": "stdout",
     "output_type": "stream",
     "text": [
      "  cluster         x         y\n",
      "0    None -2.788161  1.919696\n",
      "1    None -3.415619  1.278138\n",
      "2    None -4.413059  1.206270\n",
      "3    None -2.397015  0.084383\n",
      "4    None -4.922433  0.006818\n"
     ]
    },
    {
     "data": {
      "text/plain": [
       "<matplotlib.collections.PathCollection at 0x115b0ada0>"
      ]
     },
     "execution_count": 3,
     "metadata": {},
     "output_type": "execute_result"
    },
    {
     "data": {
      "image/png": "[encoded data removed]",
      "text/plain": [
       "<matplotlib.figure.Figure at 0x1100af390>"
      ]
     },
     "metadata": {},
     "output_type": "display_data"
    }
   ],
   "source": [
    "n_cluster = 3\n",
    "data = generatePointCluster(n_cluster, 100)\n",
    "print(data.head())\n",
    "plt.scatter(data['x'],data['y'])"
   ]
  },
  {
   "cell_type": "markdown",
   "metadata": {},
   "source": [
    "# Compute the distance of two points :"
   ]
  },
  {
   "cell_type": "markdown",
   "metadata": {},
   "source": [
    "Since the data type is DataFrame, the input of the functions are Series data."
   ]
  },
  {
   "cell_type": "code",
   "execution_count": 4,
   "metadata": {},
   "outputs": [],
   "source": [
    "def computeDistance(a, b):\n",
    "    return math.sqrt((a['x']-b['x'])**2 + (a['y']-b['y'])**2)"
   ]
  },
  {
   "cell_type": "markdown",
   "metadata": {},
   "source": [
    "Verify the function.\n",
    "\n",
    "Print the first and second data of the datasets, and compute the distance."
   ]
  },
  {
   "cell_type": "code",
   "execution_count": 5,
   "metadata": {},
   "outputs": [
    {
     "name": "stdout",
     "output_type": "stream",
     "text": [
      "First data :\n",
      "cluster       None\n",
      "x         -2.78816\n",
      "y           1.9197\n",
      "Name: 0, dtype: object \n",
      "\n",
      "Second data :\n",
      "cluster       None\n",
      "x         -3.41562\n",
      "y          1.27814\n",
      "Name: 1, dtype: object \n",
      "\n",
      "Distance is  0.8973846496293807\n"
     ]
    }
   ],
   "source": [
    "print(\"First data :\")\n",
    "print(data.loc[0],\"\\n\")\n",
    "print(\"Second data :\")\n",
    "print(data.loc[1],\"\\n\")\n",
    "print(\"Distance is \",computeDistance(data.loc[0],data.loc[1]))"
   ]
  },
  {
   "cell_type": "markdown",
   "metadata": {},
   "source": [
    "# Initialize labels :"
   ]
  },
  {
   "cell_type": "markdown",
   "metadata": {},
   "source": [
    "Since we have no idea of the dataset, initialize labels with random clusters."
   ]
  },
  {
   "cell_type": "code",
   "execution_count": 6,
   "metadata": {},
   "outputs": [],
   "source": [
    "def initializeLabel(n_cluster):\n",
    "    # For every data, assign cluster randomly\n",
    "    for i in range(len(data)):\n",
    "        rand = random.randrange(0, n_cluster)\n",
    "        data.at[i, 'cluster'] = rand\n",
    "    return"
   ]
  },
  {
   "cell_type": "markdown",
   "metadata": {},
   "source": [
    "Verify the function.\n",
    "\n",
    "We can see the cluster exists in the dataset.\n",
    "\n",
    "And we can see they are in random."
   ]
  },
  {
   "cell_type": "code",
   "execution_count": 7,
   "metadata": {},
   "outputs": [
    {
     "name": "stdout",
     "output_type": "stream",
     "text": [
      "  cluster         x         y\n",
      "0       0 -2.788161  1.919696\n",
      "1       2 -3.415619  1.278138\n",
      "2       1 -4.413059  1.206270\n",
      "3       0 -2.397015  0.084383\n",
      "4       0 -4.922433  0.006818\n"
     ]
    },
    {
     "data": {
      "image/png": "[encoded data removed]",
      "text/plain": [
       "<matplotlib.figure.Figure at 0x115ae7358>"
      ]
     },
     "metadata": {},
     "output_type": "display_data"
    }
   ],
   "source": [
    "initializeLabel(n_cluster)\n",
    "print(data.head())\n",
    "\n",
    "# Show the scatter\n",
    "for cluster in range(n_cluster):\n",
    "    plt.scatter(data[data['cluster']==cluster]['x'], data[data['cluster']==cluster]['y'], label=cluster)\n",
    "plt.legend()\n",
    "plt.show()"
   ]
  },
  {
   "cell_type": "markdown",
   "metadata": {},
   "source": [
    "# Compute center points of each clusters :"
   ]
  },
  {
   "cell_type": "markdown",
   "metadata": {},
   "source": [
    "The return type is also pd.DataFrame."
   ]
  },
  {
   "cell_type": "code",
   "execution_count": 8,
   "metadata": {},
   "outputs": [],
   "source": [
    "def computeCentroid(n_cluster):\n",
    "    \n",
    "    # example : x[0] is for sum of 1st cluster's x axis\n",
    "    x = [0 for i in range(n_cluster)]\n",
    "    y = [0 for i in range(n_cluster)]\n",
    "    \n",
    "    # Compute sum of the points for each cluster\n",
    "    for i in range(len(data)):\n",
    "        c = data.loc[i,'cluster']\n",
    "        x[c] += data.loc[i,'x']\n",
    "        y[c] += data.loc[i,'y']\n",
    "    \n",
    "    # Get average for each points\n",
    "    for cluster in range(n_cluster):\n",
    "        num = len(data[data['cluster']==cluster])\n",
    "        x[cluster] = x[cluster]/num\n",
    "        y[cluster] = y[cluster]/num\n",
    "        \n",
    "    # Return type is pd.DataFrame\n",
    "    center = {'x' : x,\n",
    "             'y' : y}\n",
    "    center = pd.DataFrame(center)\n",
    "    return center"
   ]
  },
  {
   "cell_type": "markdown",
   "metadata": {},
   "source": [
    "This function is for visualizing data.\n",
    "\n",
    "It shows clusters and center points."
   ]
  },
  {
   "cell_type": "code",
   "execution_count": 9,
   "metadata": {},
   "outputs": [],
   "source": [
    "def showClusters(n_cluster):\n",
    "    centers = computeCentroid(n_cluster)\n",
    "    \n",
    "    # Show clusters\n",
    "    for cluster in range(n_cluster):\n",
    "        plt.scatter(data[data['cluster']==cluster]['x'],data[data['cluster']==cluster]['y'], label=cluster)\n",
    "        \n",
    "    # Show center points\n",
    "    for idx in range(len(centers)):\n",
    "        plt.scatter(centers.loc[idx,'x'], centers.loc[idx,'y'], marker='*', label=str(idx)+' center', s=200)\n",
    "        \n",
    "    plt.legend()\n",
    "    plt.show()"
   ]
  },
  {
   "cell_type": "markdown",
   "metadata": {},
   "source": [
    "Verify the function.\n",
    "\n",
    "We can see the center points as star mark."
   ]
  },
  {
   "cell_type": "code",
   "execution_count": 10,
   "metadata": {},
   "outputs": [
    {
     "name": "stdout",
     "output_type": "stream",
     "text": [
      "centers :\n",
      "          x         y\n",
      "0 -2.301917  1.321488\n",
      "1 -2.716372  1.154320\n",
      "2 -2.530341  1.256475\n"
     ]
    },
    {
     "data": {
      "image/png": "[encoded data removed]",
      "text/plain": [
       "<matplotlib.figure.Figure at 0x10d77acc0>"
      ]
     },
     "metadata": {},
     "output_type": "display_data"
    }
   ],
   "source": [
    "centers = computeCentroid(n_cluster)\n",
    "print(\"centers :\")\n",
    "print(centers)\n",
    "showClusters(n_cluster)"
   ]
  },
  {
   "cell_type": "markdown",
   "metadata": {},
   "source": [
    "# Assign label with distance :"
   ]
  },
  {
   "cell_type": "markdown",
   "metadata": {},
   "source": [
    "Select the new cluster.\n",
    "\n",
    "In algorithm, the new cluster is having minimum distance between current point and cluster's center.\n",
    "\n",
    "So, we have to select minimum distance."
   ]
  },
  {
   "cell_type": "code",
   "execution_count": 11,
   "metadata": {},
   "outputs": [],
   "source": [
    "def assignLabel(n_cluster, dist_list):\n",
    "    return dist_list.index(min(dist_list))"
   ]
  },
  {
   "cell_type": "markdown",
   "metadata": {},
   "source": [
    "# Compute Energy :"
   ]
  },
  {
   "cell_type": "markdown",
   "metadata": {},
   "source": [
    "Our objective is to reduce energy.\n",
    "\n",
    "The energy is average of distances of current point and current cluster's center point."
   ]
  },
  {
   "cell_type": "code",
   "execution_count": 12,
   "metadata": {},
   "outputs": [],
   "source": [
    "def computeEnergy(n_cluster):\n",
    "    centers = computeCentroid(n_cluster)\n",
    "    distsum = 0\n",
    "    \n",
    "    # For every point, calculate distance of current point and current cluster's center point\n",
    "    for i in range(len(data)):\n",
    "        cluster = data.loc[i,'cluster']\n",
    "        dist = computeDistance(data.loc[i],centers.loc[cluster])\n",
    "        distsum += dist\n",
    "    return distsum / len(data)"
   ]
  },
  {
   "cell_type": "markdown",
   "metadata": {},
   "source": [
    "Verify the function.\n",
    "\n",
    "We run the algorithm until center points are not changed.\n",
    "\n",
    "The graph is the final label and center points."
   ]
  },
  {
   "cell_type": "code",
   "execution_count": 13,
   "metadata": {
    "scrolled": true
   },
   "outputs": [
    {
     "name": "stdout",
     "output_type": "stream",
     "text": [
      "Energy : 2.557503307016291\n",
      "Energy : 1.8811301095949198\n",
      "Energy : 1.6500984052475347\n",
      "Energy : 1.6028553392032896\n",
      "Energy : 1.5540079850098463\n",
      "Energy : 1.5016890673303769\n",
      "Energy : 1.4749592957938078\n",
      "Energy : 1.4412355754386776\n",
      "Energy : 1.425759368829341\n",
      "Energy : 1.423763065752131\n",
      "Energy : 1.424133496403729\n",
      "Energy : 1.4248031573346531\n",
      "Energy : 1.425198394161691\n",
      "Energy : 1.425720882895539\n",
      "Energy : 1.4259280022220981\n"
     ]
    },
    {
     "data": {
      "image/png": "[encoded data removed]",
      "text/plain": [
       "<matplotlib.figure.Figure at 0x118e25358>"
      ]
     },
     "metadata": {},
     "output_type": "display_data"
    }
   ],
   "source": [
    "# Calculate initial energy\n",
    "energy = []\n",
    "erg = computeEnergy(n_cluster)\n",
    "print('Energy :', erg)\n",
    "energy.append(erg)\n",
    "\n",
    "# Run the algorithm until center points are not changed\n",
    "while(1):\n",
    "    \n",
    "    # For every data, compute new distance with centers, and assign new cluster\n",
    "    for i in range(len(data)):\n",
    "        dist_list = [computeDistance(data.loc[i],centers.loc[j]) for j in range(n_cluster)]\n",
    "        new_cluster = assignLabel(n_cluster,dist_list)\n",
    "        data.at[i,'cluster'] = new_cluster\n",
    "        \n",
    "    # Calculate new centers\n",
    "    new_centers = computeCentroid(n_cluster)\n",
    "    \n",
    "    # If the center points are not changed, break\n",
    "    if (centers.values == new_centers.values).all():\n",
    "        break\n",
    "        \n",
    "    # Else, assign the new centers as centers\n",
    "    centers = new_centers\n",
    "    \n",
    "    # Calculate energy\n",
    "    erg = computeEnergy(n_cluster)\n",
    "    print('Energy :', erg)\n",
    "    energy.append(erg)\n",
    "showClusters(n_cluster)"
   ]
  },
  {
   "cell_type": "markdown",
   "metadata": {},
   "source": [
    "Plot the energy."
   ]
  },
  {
   "cell_type": "code",
   "execution_count": 14,
   "metadata": {},
   "outputs": [
    {
     "data": {
      "text/plain": [
       "[<matplotlib.lines.Line2D at 0x1190c33c8>]"
      ]
     },
     "execution_count": 14,
     "metadata": {},
     "output_type": "execute_result"
    },
    {
     "data": {
      "image/png": "[encoded data removed]",
      "text/plain": [
       "<matplotlib.figure.Figure at 0x118ecc390>"
      ]
     },
     "metadata": {},
     "output_type": "display_data"
    }
   ],
   "source": [
    "plt.plot(energy)"
   ]
  },
  {
   "cell_type": "code",
   "execution_count": null,
   "metadata": {},
   "outputs": [],
   "source": []
  }
 ],
 "metadata": {
  "kernelspec": {
   "display_name": "Python 3",
   "language": "python",
   "name": "python3"
  },
  "language_info": {
   "codemirror_mode": {
    "name": "ipython",
    "version": 3
   },
   "file_extension": ".py",
   "mimetype": "text/x-python",
   "name": "python",
   "nbconvert_exporter": "python",
   "pygments_lexer": "ipython3",
   "version": "3.6.4"
  }
 },
 "nbformat": 4,
 "nbformat_minor": 2
}
